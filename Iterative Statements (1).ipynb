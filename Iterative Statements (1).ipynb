{
 "cells": [
  {
   "cell_type": "markdown",
   "id": "c6ec7137",
   "metadata": {},
   "source": [
    "## Iterative Statements"
   ]
  },
  {
   "cell_type": "markdown",
   "id": "5b8efcd7",
   "metadata": {},
   "source": [
    "If we want to execute a group of statements multiple times then we should go for \n",
    "\n",
    "Iterative statements.\n",
    "\n",
    "Python supports 2 types of iterative statements.\n",
    "\n",
    "1. for loop\n",
    "\n",
    "2. while loop"
   ]
  },
  {
   "cell_type": "markdown",
   "id": "3e3a71b7",
   "metadata": {},
   "source": [
    "#### 1) for loop:\n",
    "\n",
    "If we want to execute some action for every element present in some sequence(it may be \n",
    "\n",
    "string or collection)then we should go for for loop."
   ]
  },
  {
   "cell_type": "markdown",
   "id": "3fae2609",
   "metadata": {},
   "source": [
    "Syntax:\n",
    "\n",
    "###### for x in sequence :\n",
    "###### body\n",
    "\n",
    "where sequence can be string or any collection.\n",
    "\n",
    "Body will be executed for every element present in the sequence."
   ]
  },
  {
   "cell_type": "markdown",
   "id": "c616bb63",
   "metadata": {},
   "source": [
    "###### Eg-1To print characters present in the given string"
   ]
  },
  {
   "cell_type": "code",
   "execution_count": 1,
   "id": "0cdaae4c",
   "metadata": {},
   "outputs": [
    {
     "name": "stdout",
     "output_type": "stream",
     "text": [
      "I\n",
      " \n",
      "l\n",
      "o\n",
      "v\n",
      "e\n",
      " \n",
      "m\n",
      "y\n",
      " \n",
      "I\n",
      "n\n",
      "d\n",
      "i\n",
      "a\n"
     ]
    }
   ],
   "source": [
    "s= \"I love my India\"\n",
    "for x in s:\n",
    "    print(x)"
   ]
  },
  {
   "cell_type": "markdown",
   "id": "39fbfa37",
   "metadata": {},
   "source": [
    "###### Eg 2: To print characters present in string index wise:"
   ]
  },
  {
   "cell_type": "code",
   "execution_count": 4,
   "id": "e41745e2",
   "metadata": {},
   "outputs": [
    {
     "name": "stdout",
     "output_type": "stream",
     "text": [
      "Enter a stringlearnqoch\n",
      "The character present at 0 th index is= l\n",
      "The character present at 1 th index is= e\n",
      "The character present at 2 th index is= a\n",
      "The character present at 3 th index is= r\n",
      "The character present at 4 th index is= n\n",
      "The character present at 5 th index is= q\n",
      "The character present at 6 th index is= o\n",
      "The character present at 7 th index is= c\n",
      "The character present at 8 th index is= h\n"
     ]
    }
   ],
   "source": [
    "s = input(\"Enter a string\")\n",
    "i = 0\n",
    "for x in s:\n",
    "    print(\"The character present at\",i,\"th index is=\",x)\n",
    "    i=i+1"
   ]
  },
  {
   "cell_type": "markdown",
   "id": "77076978",
   "metadata": {},
   "source": [
    "###### Eg 3: To print Hello 10 times"
   ]
  },
  {
   "cell_type": "code",
   "execution_count": 13,
   "id": "04be9fd4",
   "metadata": {},
   "outputs": [
    {
     "name": "stdout",
     "output_type": "stream",
     "text": [
      "0\n",
      "1\n",
      "2\n",
      "3\n",
      "4\n",
      "5\n",
      "6\n",
      "7\n",
      "8\n",
      "9\n"
     ]
    }
   ],
   "source": [
    "for i in range(10):\n",
    "    print(i)"
   ]
  },
  {
   "cell_type": "markdown",
   "id": "068f8a03",
   "metadata": {},
   "source": [
    "###### Eg 4: To display numbers from 0 to 10"
   ]
  },
  {
   "cell_type": "code",
   "execution_count": 15,
   "id": "fc1554a7",
   "metadata": {},
   "outputs": [
    {
     "name": "stdout",
     "output_type": "stream",
     "text": [
      "0\n",
      "1\n",
      "2\n",
      "3\n",
      "4\n",
      "5\n",
      "6\n",
      "7\n",
      "8\n",
      "9\n",
      "10\n"
     ]
    }
   ],
   "source": [
    "for i in range(11):\n",
    "    print(i)"
   ]
  },
  {
   "cell_type": "code",
   "execution_count": null,
   "id": "eb90413c",
   "metadata": {},
   "outputs": [],
   "source": []
  },
  {
   "cell_type": "markdown",
   "id": "e20fd9c2",
   "metadata": {},
   "source": [
    "###### Eg 5: To display odd numbers from 0 to 20"
   ]
  },
  {
   "cell_type": "code",
   "execution_count": 21,
   "id": "f24e57ef",
   "metadata": {},
   "outputs": [
    {
     "name": "stdout",
     "output_type": "stream",
     "text": [
      "0\n",
      "2\n",
      "4\n",
      "6\n",
      "8\n",
      "10\n",
      "12\n",
      "14\n",
      "16\n",
      "18\n",
      "20\n"
     ]
    }
   ],
   "source": [
    "for i in range(0,21,2):\n",
    "    print(i)\n",
    "    "
   ]
  },
  {
   "cell_type": "markdown",
   "id": "d95e2341",
   "metadata": {},
   "source": [
    "###### Eg 6: To display numbers from 10 to 1 in descending order"
   ]
  },
  {
   "cell_type": "code",
   "execution_count": 1,
   "id": "c18319ce",
   "metadata": {},
   "outputs": [
    {
     "data": {
      "text/plain": [
       "range(0, 10)"
      ]
     },
     "execution_count": 1,
     "metadata": {},
     "output_type": "execute_result"
    }
   ],
   "source": [
    "range(0,10)"
   ]
  },
  {
   "cell_type": "code",
   "execution_count": 2,
   "id": "36e4a2c0",
   "metadata": {},
   "outputs": [
    {
     "name": "stdout",
     "output_type": "stream",
     "text": [
      "range(0, 10)\n"
     ]
    }
   ],
   "source": [
    "print(range(0,10))"
   ]
  },
  {
   "cell_type": "code",
   "execution_count": 3,
   "id": "0d37cfdb",
   "metadata": {},
   "outputs": [
    {
     "data": {
      "text/plain": [
       "[0, 1, 2, 3, 4, 5, 6, 7, 8, 9]"
      ]
     },
     "execution_count": 3,
     "metadata": {},
     "output_type": "execute_result"
    }
   ],
   "source": [
    "list(range(0,10))"
   ]
  },
  {
   "cell_type": "code",
   "execution_count": 10,
   "id": "a7b3e927",
   "metadata": {},
   "outputs": [
    {
     "name": "stdout",
     "output_type": "stream",
     "text": [
      "10\n",
      "9\n",
      "8\n",
      "7\n",
      "6\n",
      "5\n",
      "4\n",
      "3\n",
      "2\n",
      "1\n",
      "0\n"
     ]
    }
   ],
   "source": [
    "for i in range(10,-1,-1):\n",
    "    print(i)"
   ]
  },
  {
   "cell_type": "code",
   "execution_count": null,
   "id": "dd1d13ca",
   "metadata": {},
   "outputs": [],
   "source": []
  },
  {
   "cell_type": "markdown",
   "id": "b0346d55",
   "metadata": {},
   "source": [
    "###### Eg 7: To print sum of numbers present inside list"
   ]
  },
  {
   "cell_type": "code",
   "execution_count": 11,
   "id": "f1c1dab8",
   "metadata": {},
   "outputs": [
    {
     "name": "stdout",
     "output_type": "stream",
     "text": [
      "Sum of list= 15\n"
     ]
    }
   ],
   "source": [
    "l = [1,2,3,4,5]\n",
    "sum=0\n",
    "for i in l:\n",
    "    sum = sum +i\n",
    "print(\"Sum of list=\",sum)"
   ]
  },
  {
   "cell_type": "code",
   "execution_count": 14,
   "id": "b929d67a",
   "metadata": {},
   "outputs": [
    {
     "name": "stdout",
     "output_type": "stream",
     "text": [
      "Enter a no6\n",
      "1 * 6 = 6\n",
      "2 * 6 = 12\n",
      "3 * 6 = 18\n",
      "4 * 6 = 24\n",
      "5 * 6 = 30\n",
      "6 * 6 = 36\n",
      "7 * 6 = 42\n",
      "8 * 6 = 48\n",
      "9 * 6 = 54\n",
      "10 * 6 = 60\n"
     ]
    }
   ],
   "source": [
    "#Print any table\n",
    "a = int(input(\"Enter a no\"))\n",
    "for i in range(1,11):\n",
    "    print(i,\"*\",a,\"=\",i*a)"
   ]
  },
  {
   "cell_type": "code",
   "execution_count": 28,
   "id": "3e929553",
   "metadata": {},
   "outputs": [
    {
     "name": "stdout",
     "output_type": "stream",
     "text": [
      "Ashish\tBhagyshri\tMangesh\tSai\t"
     ]
    }
   ],
   "source": [
    "l = ['Sai','Mangesh','Bhagyshri','Ashish']\n",
    "for i in range(3,-1,-1):\n",
    "    print(l[i], end='\\t')"
   ]
  },
  {
   "cell_type": "code",
   "execution_count": 25,
   "id": "19f88e79",
   "metadata": {},
   "outputs": [],
   "source": [
    "m = []\n",
    "l1 = ['Sai','Mangesh','Bhagyshri','Ashish']\n",
    "for i in range(len(l1)-1,-1,-1):\n",
    "    m.append(l1[i])"
   ]
  },
  {
   "cell_type": "code",
   "execution_count": 26,
   "id": "7c88d09d",
   "metadata": {},
   "outputs": [
    {
     "data": {
      "text/plain": [
       "['Ashish', 'Bhagyshri', 'Mangesh', 'Sai']"
      ]
     },
     "execution_count": 26,
     "metadata": {},
     "output_type": "execute_result"
    }
   ],
   "source": [
    "m"
   ]
  },
  {
   "cell_type": "code",
   "execution_count": 31,
   "id": "b1ab5031",
   "metadata": {},
   "outputs": [
    {
     "data": {
      "text/plain": [
       "[3, 2, 1, 0]"
      ]
     },
     "execution_count": 31,
     "metadata": {},
     "output_type": "execute_result"
    }
   ],
   "source": [
    "list(range(len(l1)-1,-1,-1))"
   ]
  },
  {
   "cell_type": "code",
   "execution_count": 32,
   "id": "3ea91015",
   "metadata": {},
   "outputs": [
    {
     "name": "stdout",
     "output_type": "stream",
     "text": [
      "S\n",
      "M\n",
      "B\n",
      "A\n"
     ]
    }
   ],
   "source": [
    "l2 = ['Sai','Mangesh','Bhagyshri','Ashish']\n",
    "for i in l2:\n",
    "    print(i[0])\n"
   ]
  },
  {
   "cell_type": "code",
   "execution_count": 39,
   "id": "b9a9963b",
   "metadata": {},
   "outputs": [
    {
     "name": "stdout",
     "output_type": "stream",
     "text": [
      "['Bhagyshri', 'Ashish', 'Mangesh', 'Sai']\n"
     ]
    }
   ],
   "source": [
    "flip_cart=['Laptop','Mobile','Books','Keyboard',23,24,45,['Sai','Mangesh','Ashish','Bhagyshri']]\n",
    "for i in flip_cart:\n",
    "    if type(i)== list:\n",
    "        print(i[::-1])"
   ]
  },
  {
   "cell_type": "code",
   "execution_count": 46,
   "id": "839c9d2f",
   "metadata": {},
   "outputs": [],
   "source": [
    "l=[]\n",
    "flip_cart=['Laptop','Mobile','Books','Keyboard',23,24,45,['Sai','Mangesh','Ashish','Bhagyshri']]\n",
    "for i in flip_cart:\n",
    "    if type(i)==list:\n",
    "        for j in i[::-1]:\n",
    "            l.append(j[::-1])"
   ]
  },
  {
   "cell_type": "code",
   "execution_count": 48,
   "id": "bbe40fb8",
   "metadata": {},
   "outputs": [
    {
     "data": {
      "text/plain": [
       "'iaS'"
      ]
     },
     "execution_count": 48,
     "metadata": {},
     "output_type": "execute_result"
    }
   ],
   "source": [
    "l.pop()"
   ]
  },
  {
   "cell_type": "code",
   "execution_count": 42,
   "id": "6b23af62",
   "metadata": {},
   "outputs": [
    {
     "data": {
      "text/plain": [
       "['Bhagyshri', 'Ashish', 'Mangesh', 'Sai']"
      ]
     },
     "execution_count": 42,
     "metadata": {},
     "output_type": "execute_result"
    }
   ],
   "source": [
    "i[::-1]"
   ]
  },
  {
   "cell_type": "code",
   "execution_count": 43,
   "id": "cb73b706",
   "metadata": {},
   "outputs": [
    {
     "data": {
      "text/plain": [
       "'iaS'"
      ]
     },
     "execution_count": 43,
     "metadata": {},
     "output_type": "execute_result"
    }
   ],
   "source": [
    "j[::-1]"
   ]
  },
  {
   "cell_type": "code",
   "execution_count": 50,
   "id": "32563039",
   "metadata": {},
   "outputs": [
    {
     "data": {
      "text/plain": [
       "['irhsygahB', 'hsihsA', 'hsegnaM']"
      ]
     },
     "execution_count": 50,
     "metadata": {},
     "output_type": "execute_result"
    }
   ],
   "source": [
    "l"
   ]
  },
  {
   "cell_type": "code",
   "execution_count": 61,
   "id": "9d927810",
   "metadata": {},
   "outputs": [
    {
     "name": "stdout",
     "output_type": "stream",
     "text": [
      "50000 Laptop\n",
      "20000 Mobile\n",
      "100 Book\n",
      "1000 Keyboard\n"
     ]
    }
   ],
   "source": [
    "#dict\n",
    "Flip_cart1={'Laptop':50000,'Mobile':20000,'Book':100,'Keyboard':1000}\n",
    "for i in Flip_cart1:\n",
    "    print(\"%d %s\" %(Flip_cart1[i],i))"
   ]
  },
  {
   "cell_type": "code",
   "execution_count": 60,
   "id": "ba6981b2",
   "metadata": {},
   "outputs": [
    {
     "data": {
      "text/plain": [
       "dict_keys(['Laptop', 'Mobile', 'Book', 'Keyboard'])"
      ]
     },
     "execution_count": 60,
     "metadata": {},
     "output_type": "execute_result"
    }
   ],
   "source": [
    "Flip_cart1.keys()"
   ]
  },
  {
   "cell_type": "code",
   "execution_count": 65,
   "id": "d8b3cdbc",
   "metadata": {},
   "outputs": [
    {
     "name": "stdout",
     "output_type": "stream",
     "text": [
      "10\t20\t30\tI love my india\t"
     ]
    }
   ],
   "source": [
    "t = (10,20,30,'I love my india')\n",
    "for i in t:\n",
    "    print(i,end='\\t')"
   ]
  },
  {
   "cell_type": "code",
   "execution_count": 68,
   "id": "94ebc896",
   "metadata": {},
   "outputs": [
    {
     "name": "stdout",
     "output_type": "stream",
     "text": [
      "Laptop\n",
      "Mobiles\n",
      "Books\n",
      "cart is empty\n"
     ]
    }
   ],
   "source": [
    "#concept of for-else\n",
    "d = ['Laptop','Mobiles','Books']\n",
    "for i in d:\n",
    "    print(i)\n",
    "else:\n",
    "    print(\"cart is empty\")"
   ]
  },
  {
   "cell_type": "markdown",
   "id": "f747743b",
   "metadata": {},
   "source": [
    "### 2) while loop:\n",
    "###### If we want to execute a group of statements iteratively until some condition false,then we \n",
    "###### should go for while loop.\n",
    "\n",
    "Syntax:\n",
    "\n",
    "while condition :\n",
    "\n",
    "body\n"
   ]
  },
  {
   "cell_type": "markdown",
   "id": "d5f3afcf",
   "metadata": {},
   "source": [
    "###### Eg: To print numbers from 1 to 10 by using while loop"
   ]
  },
  {
   "cell_type": "code",
   "execution_count": 70,
   "id": "98cafd59",
   "metadata": {},
   "outputs": [
    {
     "name": "stdout",
     "output_type": "stream",
     "text": [
      "1\n",
      "2\n",
      "3\n",
      "4\n",
      "5\n",
      "6\n",
      "7\n",
      "8\n",
      "9\n",
      "10\n"
     ]
    }
   ],
   "source": [
    "i=1\n",
    "while i<=10:\n",
    "    print(i)\n",
    "    i=i+1"
   ]
  },
  {
   "cell_type": "markdown",
   "id": "26afc18a",
   "metadata": {},
   "source": [
    "###### Eg: To display the sum of first n numbers"
   ]
  },
  {
   "cell_type": "code",
   "execution_count": 1,
   "id": "d0799c5a",
   "metadata": {},
   "outputs": [
    {
     "name": "stdout",
     "output_type": "stream",
     "text": [
      "Enter a no5\n",
      "15\n"
     ]
    }
   ],
   "source": [
    "n = int(input(\"Enter a no\"))\n",
    "sum = 0\n",
    "i=1\n",
    "while i<=n:\n",
    "    sum = sum +i\n",
    "    i=i+1\n",
    "print(sum)"
   ]
  },
  {
   "cell_type": "markdown",
   "id": "0f0a5892",
   "metadata": {},
   "source": [
    "###### Eg: write a program to prompt user to enter some name until entering Ayushi"
   ]
  },
  {
   "cell_type": "code",
   "execution_count": null,
   "id": "2e29cb75",
   "metadata": {},
   "outputs": [],
   "source": []
  },
  {
   "cell_type": "markdown",
   "id": "e4358115",
   "metadata": {},
   "source": [
    "### Infinite Loops:"
   ]
  },
  {
   "cell_type": "code",
   "execution_count": null,
   "id": "227d8bf6",
   "metadata": {},
   "outputs": [],
   "source": []
  },
  {
   "cell_type": "markdown",
   "id": "1ac072e2",
   "metadata": {},
   "source": [
    "### Nested Loops:\n",
    "Sometimes we can take a loop inside another loop,which are also known as nested loops."
   ]
  },
  {
   "cell_type": "code",
   "execution_count": null,
   "id": "3fef5326",
   "metadata": {},
   "outputs": [],
   "source": []
  },
  {
   "cell_type": "code",
   "execution_count": null,
   "id": "9ebea837",
   "metadata": {},
   "outputs": [],
   "source": []
  },
  {
   "cell_type": "code",
   "execution_count": null,
   "id": "a512e8cc",
   "metadata": {},
   "outputs": [],
   "source": []
  }
 ],
 "metadata": {
  "kernelspec": {
   "display_name": "Python 3",
   "language": "python",
   "name": "python3"
  },
  "language_info": {
   "codemirror_mode": {
    "name": "ipython",
    "version": 3
   },
   "file_extension": ".py",
   "mimetype": "text/x-python",
   "name": "python",
   "nbconvert_exporter": "python",
   "pygments_lexer": "ipython3",
   "version": "3.8.8"
  }
 },
 "nbformat": 4,
 "nbformat_minor": 5
}
